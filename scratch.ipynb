{
 "cells": [
  {
   "cell_type": "code",
   "execution_count": 1,
   "metadata": {},
   "outputs": [],
   "source": [
    "import numpy as np"
   ]
  },
  {
   "cell_type": "code",
   "execution_count": 2,
   "metadata": {},
   "outputs": [
    {
     "data": {
      "text/plain": [
       "array([[ 0,  1,  2,  3,  4],\n",
       "       [ 5,  6,  7,  8,  9],\n",
       "       [10, 11, 12, 13, 14],\n",
       "       [15, 16, 17, 18, 19],\n",
       "       [20, 21, 22, 23, 24]])"
      ]
     },
     "execution_count": 2,
     "metadata": {},
     "output_type": "execute_result"
    }
   ],
   "source": [
    "a = np.arange(25)\n",
    "a = a.reshape(5, 5)\n",
    "a"
   ]
  },
  {
   "cell_type": "code",
   "execution_count": 3,
   "metadata": {},
   "outputs": [
    {
     "data": {
      "text/plain": [
       "12"
      ]
     },
     "execution_count": 3,
     "metadata": {},
     "output_type": "execute_result"
    }
   ],
   "source": [
    "a[2, 2]"
   ]
  },
  {
   "cell_type": "code",
   "execution_count": 4,
   "metadata": {},
   "outputs": [],
   "source": [
    "def q_table(rows):\n",
    "    # Each state can have 4 actions, Up, Right, Down & Left\n",
    "    q = np.random.randn(rows * rows, 4)\n",
    "    return q"
   ]
  },
  {
   "cell_type": "code",
   "execution_count": 5,
   "metadata": {},
   "outputs": [
    {
     "data": {
      "text/plain": [
       "array([[-0.80928001, -0.60553794,  0.45308976,  0.43613244],\n",
       "       [-0.66224389,  0.06628663,  0.58126594,  0.04151032],\n",
       "       [ 0.94342997,  0.4254658 , -0.48410518,  0.90997783],\n",
       "       [ 1.54863088,  0.86278822, -0.39179345,  0.42953196],\n",
       "       [ 0.75080831, -0.5968918 , -1.01618132,  0.44171301],\n",
       "       [ 1.92467193, -1.37112191, -0.06883911,  0.60906969],\n",
       "       [-0.07843494, -1.39994086, -0.44358361,  0.36842005],\n",
       "       [-0.1510805 ,  0.73365946,  0.57219791, -0.8768487 ],\n",
       "       [ 1.16728614, -0.23819003,  0.1074089 ,  0.33953936],\n",
       "       [-0.56565144, -0.7227623 , -0.56523955, -1.02507639],\n",
       "       [-1.1307588 ,  0.80405059, -1.07848214, -0.59267133],\n",
       "       [ 0.91089019, -1.76507121, -1.97581349, -2.020169  ],\n",
       "       [-0.58550136, -0.47355679, -0.40237398,  0.24111951],\n",
       "       [-0.54911552, -1.7584141 ,  0.39710198, -1.91083847],\n",
       "       [ 1.16819426, -0.83956332, -0.4151713 ,  0.37285525],\n",
       "       [-2.69543232, -1.25297192,  0.92861395, -0.62062233],\n",
       "       [ 1.25425654, -2.12444468, -1.09558483,  0.31662146],\n",
       "       [ 1.13768901,  1.64043789,  0.64858977,  0.55473918],\n",
       "       [-0.37553133, -0.8274103 ,  0.33266117,  0.56750322],\n",
       "       [-1.53913112,  0.26286707, -0.16900433, -0.32550378],\n",
       "       [-1.92147389,  0.11478656,  1.2330914 ,  0.94466563],\n",
       "       [-0.22510992, -1.26581606, -0.74874239,  1.49421997],\n",
       "       [-0.03327145,  0.31384482,  2.04652257, -0.39990242],\n",
       "       [-0.49985263, -1.56522445, -1.24464623, -2.01255453],\n",
       "       [ 1.24390584,  0.68537014,  0.28573819,  0.2437292 ]])"
      ]
     },
     "execution_count": 5,
     "metadata": {},
     "output_type": "execute_result"
    }
   ],
   "source": [
    "q_table(5)"
   ]
  },
  {
   "cell_type": "code",
   "execution_count": 6,
   "metadata": {},
   "outputs": [],
   "source": [
    "def lookup_table(rows):\n",
    "    table = np.arange(rows * rows).reshape(rows, -1)\n",
    "    return table"
   ]
  },
  {
   "cell_type": "code",
   "execution_count": 7,
   "metadata": {},
   "outputs": [
    {
     "data": {
      "text/plain": [
       "array([[ 0,  1,  2,  3,  4],\n",
       "       [ 5,  6,  7,  8,  9],\n",
       "       [10, 11, 12, 13, 14],\n",
       "       [15, 16, 17, 18, 19],\n",
       "       [20, 21, 22, 23, 24]])"
      ]
     },
     "execution_count": 7,
     "metadata": {},
     "output_type": "execute_result"
    }
   ],
   "source": [
    "table = lookup_table(5)\n",
    "table"
   ]
  },
  {
   "cell_type": "code",
   "execution_count": 8,
   "metadata": {},
   "outputs": [
    {
     "data": {
      "text/plain": [
       "array([ 4,  9, 14, 19, 24])"
      ]
     },
     "execution_count": 8,
     "metadata": {},
     "output_type": "execute_result"
    }
   ],
   "source": [
    "table[:, 4]"
   ]
  },
  {
   "cell_type": "code",
   "execution_count": 9,
   "metadata": {},
   "outputs": [
    {
     "data": {
      "text/plain": [
       "'\\n(0, 0) (5, 0)\\n(0, 5) (5, 5)\\n'"
      ]
     },
     "execution_count": 9,
     "metadata": {},
     "output_type": "execute_result"
    }
   ],
   "source": [
    "'''\n",
    "(0, 0) (5, 0)\n",
    "(0, 5) (5, 5)\n",
    "'''"
   ]
  },
  {
   "cell_type": "code",
   "execution_count": 10,
   "metadata": {},
   "outputs": [
    {
     "data": {
      "text/plain": [
       "[(1, 2), (3, 4), (5, 6)]"
      ]
     },
     "execution_count": 10,
     "metadata": {},
     "output_type": "execute_result"
    }
   ],
   "source": [
    "a = [(1, 2), (3, 4), (5, 6)]\n",
    "a"
   ]
  },
  {
   "cell_type": "code",
   "execution_count": 11,
   "metadata": {},
   "outputs": [
    {
     "data": {
      "text/plain": [
       "[(2, 1), (4, 3), (6, 5)]"
      ]
     },
     "execution_count": 11,
     "metadata": {},
     "output_type": "execute_result"
    }
   ],
   "source": [
    "[(i[1], i[0]) for i in a]"
   ]
  },
  {
   "cell_type": "code",
   "execution_count": 22,
   "metadata": {},
   "outputs": [
    {
     "data": {
      "text/plain": [
       "array([[ 0,  1,  2,  3,  4],\n",
       "       [ 5,  6,  7,  8,  9],\n",
       "       [10, 11, 12, 13, 14],\n",
       "       [15, 16, 17, 18, 19],\n",
       "       [20, 21, 22, 23, 24]])"
      ]
     },
     "execution_count": 22,
     "metadata": {},
     "output_type": "execute_result"
    }
   ],
   "source": [
    "table"
   ]
  },
  {
   "cell_type": "code",
   "execution_count": 34,
   "metadata": {},
   "outputs": [
    {
     "data": {
      "text/plain": [
       "array([[-0.25537584,  1.32603374, -0.69580764,  0.41998747],\n",
       "       [-0.18542238,  1.78312162,  1.64293551, -2.74158931],\n",
       "       [ 1.33782407,  1.13832075,  1.53652916, -0.14516832],\n",
       "       [ 0.40151292,  0.14608515,  0.36644881, -0.14378416],\n",
       "       [-0.30761975, -0.87662834,  0.6954408 ,  0.22768794],\n",
       "       [ 0.59268782,  1.09617831, -0.54676084, -0.27051885],\n",
       "       [ 1.43433815, -1.82701205,  1.38388126, -0.39179721],\n",
       "       [-0.68726538,  0.8614944 , -1.29955851,  0.81460396],\n",
       "       [ 1.71392612, -1.0465236 , -1.78245924, -0.81633416],\n",
       "       [-0.57780646,  2.16325783, -0.85572286,  0.3611544 ],\n",
       "       [ 1.24413767, -0.04728427, -0.0843212 ,  0.23837528],\n",
       "       [ 0.11748068,  0.0861941 ,  1.39774974, -0.10240357],\n",
       "       [-1.4448091 ,  0.26664515, -0.06398956,  0.48555186],\n",
       "       [-0.12549259,  0.07745537,  1.20658068,  1.25823342],\n",
       "       [ 1.5793871 , -0.49304194, -0.08382869, -0.28435015],\n",
       "       [-0.44102026,  1.78910791, -0.52155494, -0.99962168],\n",
       "       [ 0.10996023, -1.01576696,  1.11288316,  0.91875203],\n",
       "       [ 1.44096575, -1.53328078, -0.92314108, -0.89183922],\n",
       "       [-0.51687219, -0.41819903,  0.44210949,  1.51761833],\n",
       "       [-0.07599572,  0.64988727,  1.01706007,  0.9440491 ],\n",
       "       [ 0.32280506, -1.25543753,  0.32486453,  2.33419023],\n",
       "       [ 0.91195634, -1.56817768, -0.34867685,  0.25619493],\n",
       "       [-0.91517868,  1.22007813,  0.25339076,  0.63041395],\n",
       "       [ 0.55471071, -0.1217818 ,  0.00475744, -0.61454471],\n",
       "       [ 0.69936596, -0.12598076,  0.77727954, -1.13425594]])"
      ]
     },
     "execution_count": 34,
     "metadata": {},
     "output_type": "execute_result"
    }
   ],
   "source": [
    "q = q_table(5)"
   ]
  },
  {
   "cell_type": "code",
   "execution_count": 37,
   "metadata": {},
   "outputs": [
    {
     "data": {
      "text/plain": [
       "array([[ 0,  1,  2,  3,  4],\n",
       "       [ 5,  6,  7,  8,  9],\n",
       "       [10, 11, 12, 13, 14],\n",
       "       [15, 16, 17, 18, 19],\n",
       "       [20, 21, 22, 23, 24]])"
      ]
     },
     "execution_count": 37,
     "metadata": {},
     "output_type": "execute_result"
    }
   ],
   "source": [
    "table"
   ]
  },
  {
   "cell_type": "code",
   "execution_count": 46,
   "metadata": {},
   "outputs": [],
   "source": [
    "pos = np.where(table == 7)\n",
    "# pos = (pos[0], pos[1])\n",
    "# pos\n"
   ]
  },
  {
   "cell_type": "code",
   "execution_count": 55,
   "metadata": {},
   "outputs": [
    {
     "data": {
      "text/plain": [
       "(1, 2)"
      ]
     },
     "execution_count": 55,
     "metadata": {},
     "output_type": "execute_result"
    }
   ],
   "source": [
    "pos[0].item(), pos[1].item()"
   ]
  }
 ],
 "metadata": {
  "kernelspec": {
   "display_name": "Python 3.7.6 64-bit ('tensorflow': conda)",
   "language": "python",
   "name": "python37664bittensorflowconda83262d44f23c40b1ac094d8f0a26c5fc"
  },
  "language_info": {
   "codemirror_mode": {
    "name": "ipython",
    "version": 3
   },
   "file_extension": ".py",
   "mimetype": "text/x-python",
   "name": "python",
   "nbconvert_exporter": "python",
   "pygments_lexer": "ipython3",
   "version": "3.7.8"
  }
 },
 "nbformat": 4,
 "nbformat_minor": 4
}
